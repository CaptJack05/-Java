{
  "nbformat": 4,
  "nbformat_minor": 0,
  "metadata": {
    "colab": {
      "provenance": [],
      "authorship_tag": "ABX9TyNUuX1mBHP6SaIeytl80Gcj",
      "include_colab_link": true
    },
    "kernelspec": {
      "name": "python3",
      "display_name": "Python 3"
    },
    "language_info": {
      "name": "python"
    }
  },
  "cells": [
    {
      "cell_type": "markdown",
      "metadata": {
        "id": "view-in-github",
        "colab_type": "text"
      },
      "source": [
        "<a href=\"https://colab.research.google.com/github/CaptJack05/-Java/blob/master/pandas.ipynb\" target=\"_parent\"><img src=\"https://colab.research.google.com/assets/colab-badge.svg\" alt=\"Open In Colab\"/></a>"
      ]
    },
    {
      "cell_type": "code",
      "execution_count": 1,
      "metadata": {
        "colab": {
          "base_uri": "https://localhost:8080/"
        },
        "id": "W-A1774z2Itk",
        "outputId": "579a0883-c3b5-46a1-c065-ab268f419527"
      },
      "outputs": [
        {
          "output_type": "stream",
          "name": "stdout",
          "text": [
            "Requirement already satisfied: pandas in /usr/local/lib/python3.11/dist-packages (2.2.2)\n",
            "Requirement already satisfied: numpy>=1.23.2 in /usr/local/lib/python3.11/dist-packages (from pandas) (2.0.2)\n",
            "Requirement already satisfied: python-dateutil>=2.8.2 in /usr/local/lib/python3.11/dist-packages (from pandas) (2.9.0.post0)\n",
            "Requirement already satisfied: pytz>=2020.1 in /usr/local/lib/python3.11/dist-packages (from pandas) (2025.2)\n",
            "Requirement already satisfied: tzdata>=2022.7 in /usr/local/lib/python3.11/dist-packages (from pandas) (2025.2)\n",
            "Requirement already satisfied: six>=1.5 in /usr/local/lib/python3.11/dist-packages (from python-dateutil>=2.8.2->pandas) (1.17.0)\n"
          ]
        }
      ],
      "source": [
        "!pip install pandas\n"
      ]
    },
    {
      "cell_type": "code",
      "source": [
        "import pandas as pd\n"
      ],
      "metadata": {
        "id": "-j49htoq2gl6"
      },
      "execution_count": 2,
      "outputs": []
    },
    {
      "cell_type": "code",
      "source": [
        "# Series data\n",
        "\n",
        "lis = [4,5,2,4,5]\n",
        "\n",
        "sData = pd.Series(lis)\n",
        "print(sData)\n",
        "print(type(sData))\n"
      ],
      "metadata": {
        "colab": {
          "base_uri": "https://localhost:8080/"
        },
        "id": "v685cgji4u4M",
        "outputId": "bfd932c7-cec6-4e32-8514-7002f1123f2a"
      },
      "execution_count": 3,
      "outputs": [
        {
          "output_type": "stream",
          "name": "stdout",
          "text": [
            "0    4\n",
            "1    5\n",
            "2    2\n",
            "3    4\n",
            "4    5\n",
            "dtype: int64\n",
            "<class 'pandas.core.series.Series'>\n"
          ]
        }
      ]
    },
    {
      "cell_type": "code",
      "source": [
        "data = [5,5,2,5 ,5,2]\n",
        "\n",
        "no = pd.Series(data, name=\"PANDAS\",dtype=\"float\")\n",
        "\n",
        "print(no)\n",
        "\n"
      ],
      "metadata": {
        "colab": {
          "base_uri": "https://localhost:8080/"
        },
        "id": "Qbsl09fn5vpe",
        "outputId": "b7846c50-1562-407e-f75b-ce961a2aa180"
      },
      "execution_count": 4,
      "outputs": [
        {
          "output_type": "stream",
          "name": "stdout",
          "text": [
            "0    5.0\n",
            "1    5.0\n",
            "2    2.0\n",
            "3    5.0\n",
            "4    5.0\n",
            "5    2.0\n",
            "Name: PANDAS, dtype: float64\n"
          ]
        }
      ]
    },
    {
      "cell_type": "code",
      "source": [
        "dic = {\"name\":[\"hem\",\"amit\",\"Atul\", \"Deepa\"], \"age\":[21,35,54,23], \"Height\":[180, 170, 175, 160]}\n",
        "\n",
        "sData = pd.Series(dic)\n",
        "print(sData)"
      ],
      "metadata": {
        "colab": {
          "base_uri": "https://localhost:8080/"
        },
        "id": "ijzPvvgS6qus",
        "outputId": "471cc6a3-9bbb-4b38-d8c8-cee98050c0c1"
      },
      "execution_count": 5,
      "outputs": [
        {
          "output_type": "stream",
          "name": "stdout",
          "text": [
            "name      [hem, amit, Atul, Deepa]\n",
            "age               [21, 35, 54, 23]\n",
            "Height        [180, 170, 175, 160]\n",
            "dtype: object\n"
          ]
        }
      ]
    },
    {
      "cell_type": "code",
      "source": [
        "fixData = pd.Series(32,index = [1,2,3,5])\n",
        "fixData2 = pd.Series(12,index = [1,3,4,6,2,7,9,5,1])\n",
        "print(fixData + fixData2)"
      ],
      "metadata": {
        "colab": {
          "base_uri": "https://localhost:8080/"
        },
        "id": "p60dPhBgNvd4",
        "outputId": "33100fca-fdd1-4e45-8e59-376bb0d71aed"
      },
      "execution_count": 6,
      "outputs": [
        {
          "output_type": "stream",
          "name": "stdout",
          "text": [
            "1    44.0\n",
            "1    44.0\n",
            "2    44.0\n",
            "3    44.0\n",
            "4     NaN\n",
            "5    44.0\n",
            "6     NaN\n",
            "7     NaN\n",
            "9     NaN\n",
            "dtype: float64\n"
          ]
        }
      ]
    },
    {
      "cell_type": "code",
      "source": [
        "#Data Frame\n",
        "\n",
        "lisDF = [[1,2,3,4,5],[1,2,3,4,5]]\n",
        "dfLis = pd.DataFrame(lisDF)\n",
        "print(dfLis)"
      ],
      "metadata": {
        "colab": {
          "base_uri": "https://localhost:8080/"
        },
        "id": "wBSaufT1Qbhx",
        "outputId": "62775b1b-86f4-4df5-b1ad-1ad46618f4fd"
      },
      "execution_count": 7,
      "outputs": [
        {
          "output_type": "stream",
          "name": "stdout",
          "text": [
            "   0  1  2  3  4\n",
            "0  1  2  3  4  5\n",
            "1  1  2  3  4  5\n"
          ]
        }
      ]
    },
    {
      "cell_type": "code",
      "source": [
        "lisDF2 = {\"a\":[1,2,3,4,5], \"b\":[6,7,8,9,10], \"c\":[11,12,13,14,15],\"g\":[0,0,0,0,0]}\n",
        "\n",
        "varDF2 = pd.DataFrame(lisDF2)\n",
        "print(varDF2)\n",
        "\n",
        "varDF201 = pd.DataFrame(lisDF2, columns=[\"a\",\"b\"], index=[1,2,3,4,5])\n",
        "print(varDF201)\n",
        "print(varDF201[\"a\"][4])\n"
      ],
      "metadata": {
        "colab": {
          "base_uri": "https://localhost:8080/"
        },
        "id": "Qm8wdp9J3r_b",
        "outputId": "52718e76-773f-4837-ebe1-46bea5d603df"
      },
      "execution_count": 8,
      "outputs": [
        {
          "output_type": "stream",
          "name": "stdout",
          "text": [
            "   a   b   c  g\n",
            "0  1   6  11  0\n",
            "1  2   7  12  0\n",
            "2  3   8  13  0\n",
            "3  4   9  14  0\n",
            "4  5  10  15  0\n",
            "   a   b\n",
            "1  1   6\n",
            "2  2   7\n",
            "3  3   8\n",
            "4  4   9\n",
            "5  5  10\n",
            "4\n"
          ]
        }
      ]
    },
    {
      "cell_type": "code",
      "source": [
        "seriesData = {\"a\": pd.Series([1,2,3,4]), \"b\":pd.Series(([5,6,7,8]))}\n",
        "\n",
        "seriesDF = pd.DataFrame(seriesData)\n",
        "print(seriesDF)"
      ],
      "metadata": {
        "colab": {
          "base_uri": "https://localhost:8080/"
        },
        "id": "HWZ4QeTF7biI",
        "outputId": "c3a7d765-41c4-44f2-9245-e130703ac289"
      },
      "execution_count": 9,
      "outputs": [
        {
          "output_type": "stream",
          "name": "stdout",
          "text": [
            "   a  b\n",
            "0  1  5\n",
            "1  2  6\n",
            "2  3  7\n",
            "3  4  8\n"
          ]
        }
      ]
    },
    {
      "cell_type": "code",
      "source": [
        "varM = pd.DataFrame({\"a\":[1,2,3,4,5], \"b\":[6,6,7,8,9]})\n",
        "\n",
        "varM[\"c\"] = varM[\"a\"]+ varM[\"b\"]\n",
        "print(varM)\n",
        "varM[\"d\"] = varM[\"a\"] - varM[\"b\"]\n",
        "print(varM)\n",
        "varM[\"e\"] = varM[\"a\"] * varM[\"b\"]\n",
        "print(varM)\n",
        "varM[\"f\"] = varM[\"a\"] / varM[\"b\"]\n",
        "print(varM)\n",
        "\n",
        "varM[\"great\"] =  varM[\"f\"] > 0.4\n",
        "print(varM)\n"
      ],
      "metadata": {
        "colab": {
          "base_uri": "https://localhost:8080/"
        },
        "id": "y1I4zhEj6hIp",
        "outputId": "a4d10423-8211-463f-c889-66d92cf650dc"
      },
      "execution_count": 10,
      "outputs": [
        {
          "output_type": "stream",
          "name": "stdout",
          "text": [
            "   a  b   c\n",
            "0  1  6   7\n",
            "1  2  6   8\n",
            "2  3  7  10\n",
            "3  4  8  12\n",
            "4  5  9  14\n",
            "   a  b   c  d\n",
            "0  1  6   7 -5\n",
            "1  2  6   8 -4\n",
            "2  3  7  10 -4\n",
            "3  4  8  12 -4\n",
            "4  5  9  14 -4\n",
            "   a  b   c  d   e\n",
            "0  1  6   7 -5   6\n",
            "1  2  6   8 -4  12\n",
            "2  3  7  10 -4  21\n",
            "3  4  8  12 -4  32\n",
            "4  5  9  14 -4  45\n",
            "   a  b   c  d   e         f\n",
            "0  1  6   7 -5   6  0.166667\n",
            "1  2  6   8 -4  12  0.333333\n",
            "2  3  7  10 -4  21  0.428571\n",
            "3  4  8  12 -4  32  0.500000\n",
            "4  5  9  14 -4  45  0.555556\n",
            "   a  b   c  d   e         f  great\n",
            "0  1  6   7 -5   6  0.166667  False\n",
            "1  2  6   8 -4  12  0.333333  False\n",
            "2  3  7  10 -4  21  0.428571   True\n",
            "3  4  8  12 -4  32  0.500000   True\n",
            "4  5  9  14 -4  45  0.555556   True\n"
          ]
        }
      ]
    },
    {
      "cell_type": "code",
      "source": [],
      "metadata": {
        "id": "JYzJ07MV8hZk"
      },
      "execution_count": 10,
      "outputs": []
    },
    {
      "cell_type": "markdown",
      "source": [
        "## *CSV *\n",
        "\n",
        "comma seprated values"
      ],
      "metadata": {
        "id": "fKoffxAjm25o"
      }
    },
    {
      "cell_type": "code",
      "source": [
        "\n",
        "dfCSV = pd.DataFrame(varM)\n",
        "print(dfCSV)\n",
        "\n",
        "dfCSV.to_csv(\"Test_new.csv\")"
      ],
      "metadata": {
        "colab": {
          "base_uri": "https://localhost:8080/"
        },
        "id": "GNcZjtg8m8eq",
        "outputId": "7e032da2-a72e-4cb6-cc97-93fc592800a6"
      },
      "execution_count": 11,
      "outputs": [
        {
          "output_type": "stream",
          "name": "stdout",
          "text": [
            "   a  b   c  d   e         f  great\n",
            "0  1  6   7 -5   6  0.166667  False\n",
            "1  2  6   8 -4  12  0.333333  False\n",
            "2  3  7  10 -4  21  0.428571   True\n",
            "3  4  8  12 -4  32  0.500000   True\n",
            "4  5  9  14 -4  45  0.555556   True\n"
          ]
        }
      ]
    },
    {
      "cell_type": "code",
      "source": [
        "!wget https://raw.githubusercontent.com/JovianML/opendatasets/master/data/medical-charges.csv\n",
        "\n",
        "data = pd.read_csv(\"medical-charges.csv\")\n",
        "\n",
        "data.info()\n",
        "\n"
      ],
      "metadata": {
        "colab": {
          "base_uri": "https://localhost:8080/"
        },
        "id": "zzAupyyuxXxM",
        "outputId": "9a926680-4dd6-4ee2-943c-44c5d702d4db"
      },
      "execution_count": 13,
      "outputs": [
        {
          "output_type": "stream",
          "name": "stdout",
          "text": [
            "--2025-07-15 15:52:16--  https://raw.githubusercontent.com/JovianML/opendatasets/master/data/medical-charges.csv\n",
            "Resolving raw.githubusercontent.com (raw.githubusercontent.com)... 185.199.108.133, 185.199.109.133, 185.199.110.133, ...\n",
            "Connecting to raw.githubusercontent.com (raw.githubusercontent.com)|185.199.108.133|:443... connected.\n",
            "HTTP request sent, awaiting response... 200 OK\n",
            "Length: 55628 (54K) [text/plain]\n",
            "Saving to: ‘medical-charges.csv.1’\n",
            "\n",
            "\rmedical-charges.csv   0%[                    ]       0  --.-KB/s               \rmedical-charges.csv 100%[===================>]  54.32K  --.-KB/s    in 0.008s  \n",
            "\n",
            "2025-07-15 15:52:16 (6.57 MB/s) - ‘medical-charges.csv.1’ saved [55628/55628]\n",
            "\n",
            "<class 'pandas.core.frame.DataFrame'>\n",
            "RangeIndex: 1338 entries, 0 to 1337\n",
            "Data columns (total 7 columns):\n",
            " #   Column    Non-Null Count  Dtype  \n",
            "---  ------    --------------  -----  \n",
            " 0   age       1338 non-null   int64  \n",
            " 1   sex       1338 non-null   object \n",
            " 2   bmi       1338 non-null   float64\n",
            " 3   children  1338 non-null   int64  \n",
            " 4   smoker    1338 non-null   object \n",
            " 5   region    1338 non-null   object \n",
            " 6   charges   1338 non-null   float64\n",
            "dtypes: float64(2), int64(2), object(3)\n",
            "memory usage: 73.3+ KB\n"
          ]
        }
      ]
    },
    {
      "cell_type": "code",
      "source": [
        "data_row = pd.read_csv(\"medical-charges.csv\", nrows =5 )\n",
        "data_row.info()\n",
        "print(data_row)"
      ],
      "metadata": {
        "colab": {
          "base_uri": "https://localhost:8080/"
        },
        "id": "nezHKIf6ythV",
        "outputId": "0ccb8a6b-d6c1-4b0f-b425-9e1f31c8dba5"
      },
      "execution_count": 19,
      "outputs": [
        {
          "output_type": "stream",
          "name": "stdout",
          "text": [
            "<class 'pandas.core.frame.DataFrame'>\n",
            "RangeIndex: 5 entries, 0 to 4\n",
            "Data columns (total 7 columns):\n",
            " #   Column    Non-Null Count  Dtype  \n",
            "---  ------    --------------  -----  \n",
            " 0   age       5 non-null      int64  \n",
            " 1   sex       5 non-null      object \n",
            " 2   bmi       5 non-null      float64\n",
            " 3   children  5 non-null      int64  \n",
            " 4   smoker    5 non-null      object \n",
            " 5   region    5 non-null      object \n",
            " 6   charges   5 non-null      float64\n",
            "dtypes: float64(2), int64(2), object(3)\n",
            "memory usage: 412.0+ bytes\n",
            "   age     sex     bmi  children smoker     region      charges\n",
            "0   19  female  27.900         0    yes  southwest  16884.92400\n",
            "1   18    male  33.770         1     no  southeast   1725.55230\n",
            "2   28    male  33.000         3     no  southeast   4449.46200\n",
            "3   33    male  22.705         0     no  northwest  21984.47061\n",
            "4   32    male  28.880         0     no  northwest   3866.85520\n"
          ]
        }
      ]
    },
    {
      "cell_type": "code",
      "source": [
        "data_coulmn = pd.read_csv(\"medical-charges.csv\" ,usecols=[\"age\"] )\n",
        "print(data_coulmn)\n"
      ],
      "metadata": {
        "colab": {
          "base_uri": "https://localhost:8080/"
        },
        "id": "PCZ240R6zopd",
        "outputId": "451b2544-da9c-438e-f25d-96caa314f049"
      },
      "execution_count": 23,
      "outputs": [
        {
          "output_type": "stream",
          "name": "stdout",
          "text": [
            "      age\n",
            "0      19\n",
            "1      18\n",
            "2      28\n",
            "3      33\n",
            "4      32\n",
            "...   ...\n",
            "1333   50\n",
            "1334   18\n",
            "1335   18\n",
            "1336   21\n",
            "1337   61\n",
            "\n",
            "[1338 rows x 1 columns]\n"
          ]
        }
      ]
    },
    {
      "cell_type": "code",
      "source": [
        "data_coulmn = pd.read_csv(\"medical-charges.csv\" ,usecols=[0,3] )\n",
        "print(data_coulmn)\n"
      ],
      "metadata": {
        "colab": {
          "base_uri": "https://localhost:8080/"
        },
        "id": "y-lcl3Nh4Mwn",
        "outputId": "508ce925-7ae2-4ed7-9cf5-bea96e91399c"
      },
      "execution_count": 24,
      "outputs": [
        {
          "output_type": "stream",
          "name": "stdout",
          "text": [
            "      age  children\n",
            "0      19         0\n",
            "1      18         1\n",
            "2      28         3\n",
            "3      33         0\n",
            "4      32         0\n",
            "...   ...       ...\n",
            "1333   50         3\n",
            "1334   18         0\n",
            "1335   18         0\n",
            "1336   21         0\n",
            "1337   61         0\n",
            "\n",
            "[1338 rows x 2 columns]\n"
          ]
        }
      ]
    },
    {
      "cell_type": "code",
      "source": [
        "data_coulmn = pd.read_csv(\"medical-charges.csv\" ,skiprows= 4 )\n",
        "print(data_coulmn)\n"
      ],
      "metadata": {
        "colab": {
          "base_uri": "https://localhost:8080/"
        },
        "id": "gnyyQQH_4beL",
        "outputId": "f3d2c981-f9af-4541-c4a9-63763e57729e"
      },
      "execution_count": 25,
      "outputs": [
        {
          "output_type": "stream",
          "name": "stdout",
          "text": [
            "      33    male  22.705  0   no  northwest  21984.47061\n",
            "0     32    male   28.88  0   no  northwest    3866.8552\n",
            "1     31  female   25.74  0   no  southeast    3756.6216\n",
            "2     46  female   33.44  1   no  southeast    8240.5896\n",
            "3     37  female   27.74  3   no  northwest    7281.5056\n",
            "4     37    male   29.83  2   no  northeast    6406.4107\n",
            "...   ..     ...     ... ..  ...        ...          ...\n",
            "1329  50    male   30.97  3   no  northwest   10600.5483\n",
            "1330  18  female   31.92  0   no  northeast    2205.9808\n",
            "1331  18  female   36.85  0   no  southeast    1629.8335\n",
            "1332  21  female   25.80  0   no  southwest    2007.9450\n",
            "1333  61  female   29.07  0  yes  northwest   29141.3603\n",
            "\n",
            "[1334 rows x 7 columns]\n"
          ]
        }
      ]
    }
  ]
}